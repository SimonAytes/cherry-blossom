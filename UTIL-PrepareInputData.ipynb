{
 "cells": [
  {
   "cell_type": "markdown",
   "id": "4c9b6630-0f4b-43e3-9745-155a6c368fd9",
   "metadata": {},
   "source": [
    "# [UTILITY] Prepare Input Data"
   ]
  },
  {
   "cell_type": "markdown",
   "id": "265efb5d-d402-45c1-9175-75770c5a19ad",
   "metadata": {},
   "source": [
    "Using this notebook, you can generate a properly-formatted input data file for the model using data from Visual Crossing."
   ]
  },
  {
   "cell_type": "code",
   "execution_count": 2,
   "id": "1afd4e57-1a76-4866-85e5-83da19c119c7",
   "metadata": {},
   "outputs": [
    {
     "name": "stdin",
     "output_type": "stream",
     "text": [
      "Path to CSV:  /Users/simonaytes/Documents/GitHub/cherry-blossom/data/raw/Morioka.csv\n",
      "Name of location:  Morioka\n"
     ]
    },
    {
     "name": "stdout",
     "output_type": "stream",
     "text": [
      "Done!\n"
     ]
    }
   ],
   "source": [
    "import pandas as pd\n",
    "from datetime import datetime as dt\n",
    "from src import prediction_utils as pred_util\n",
    "from src import cherry_blossom_utils as util\n",
    "\n",
    "input_path = input(\"Path to CSV: \")\n",
    "loc_name = input(\"Name of location: \")\n",
    "\n",
    "columns = ['name', 'sunrise', 'sunset', 'datetime', 'tempmax', 'tempmin', 'temp', 'dew', 'humidity', 'precip', 'precipprob', 'precipcover', 'snowdepth', 'windgust', 'windspeed', 'windspeedmax', 'windspeedmean', 'windspeedmin', 'sealevelpressure', 'cloudcover', 'solarradiation', 'solarenergy', 'uvindex']\n",
    "\n",
    "formatted_df = util.clean_weather_df(input_path, columns=columns, name=loc_name)\n",
    "\n",
    "output_file_name = f\"./data/inputs/{dt.now().strftime('%Y-%m-%d_%H-%M-%S') + '.csv'}\"\n",
    "\n",
    "formatted_df.to_csv(output_file_name, index=False)\n",
    "\n",
    "print(\"Done!\")"
   ]
  }
 ],
 "metadata": {
  "kernelspec": {
   "display_name": "Python 3 (ipykernel)",
   "language": "python",
   "name": "python3"
  },
  "language_info": {
   "codemirror_mode": {
    "name": "ipython",
    "version": 3
   },
   "file_extension": ".py",
   "mimetype": "text/x-python",
   "name": "python",
   "nbconvert_exporter": "python",
   "pygments_lexer": "ipython3",
   "version": "3.11.1"
  }
 },
 "nbformat": 4,
 "nbformat_minor": 5
}
