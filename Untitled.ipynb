{
  "cells": [
    {
      "cell_type": "markdown",
      "id": "5b969624-1e81-474f-881f-490e06c07bf1",
      "metadata": {
        "id": "5b969624-1e81-474f-881f-490e06c07bf1"
      },
      "source": [
        "# Problem Statement"
      ]
    },
    {
      "cell_type": "markdown",
      "id": "17d0d402-053e-47af-8bf5-41ee29edcf73",
      "metadata": {
        "id": "17d0d402-053e-47af-8bf5-41ee29edcf73"
      },
      "source": [
        "**Predict the following locations:**\n",
        "- Kyoto (Japan)\n",
        "- Liestal-Weideli (Switzerland)\n",
        "- Washington, D.C. (USA)\n",
        "- Vancouver, BC (Canada)\n",
        "- New York City, NY (USA)"
      ]
    },
    {
      "cell_type": "markdown",
      "id": "f712a833-3386-481a-bbde-f38db31ac123",
      "metadata": {
        "id": "f712a833-3386-481a-bbde-f38db31ac123"
      },
      "source": [
        "# Environment Configuration\n",
        "----"
      ]
    },
    {
      "cell_type": "markdown",
      "id": "71c1b9b2-0c10-4c76-878d-2bb48bdba15a",
      "metadata": {
        "id": "71c1b9b2-0c10-4c76-878d-2bb48bdba15a"
      },
      "source": [
        "## Import libraries"
      ]
    },
    {
      "cell_type": "code",
      "execution_count": null,
      "id": "56325166-8f74-412e-89d0-196337ea14eb",
      "metadata": {
        "id": "56325166-8f74-412e-89d0-196337ea14eb"
      },
      "outputs": [],
      "source": [
        "import pandas as pd\n",
        "import seaborn as sn\n",
        "import matplotlib.pyplot as plt\n",
        "import numpy as np\n",
        "\n",
        "from sklearn.model_selection import train_test_split\n",
        "from sklearn.metrics import mean_squared_error, r2_score\n",
        "from sklearn.preprocessing import StandardScaler\n",
        "from sklearn.model_selection import GridSearchCV\n",
        "\n",
        "from sklearn.decomposition import PCA\n",
        "from tensorflow.keras.models import Sequential\n",
        "from tensorflow.keras.layers import Dense\n",
        "\n",
        "from sklearn.ensemble import RandomForestRegressor\n",
        "from sklearn.ensemble import GradientBoostingRegressor\n",
        "from sklearn.svm import SVR"
      ]
    },
    {
      "cell_type": "markdown",
      "id": "f2324ffc-6cec-480e-83f9-075dc8ff0b42",
      "metadata": {
        "id": "f2324ffc-6cec-480e-83f9-075dc8ff0b42"
      },
      "source": [
        "## Utility functions"
      ]
    },
    {
      "cell_type": "code",
      "execution_count": null,
      "id": "a8139c6f-21ac-493f-ba1d-fe0db7f3a0ef",
      "metadata": {
        "id": "a8139c6f-21ac-493f-ba1d-fe0db7f3a0ef"
      },
      "outputs": [],
      "source": [
        "def get_interval(y_pred, alpha=0.99):\n",
        "    # Calculate prediction intervals using quantiles\n",
        "    alpha = 0.99  # Confidence level\n",
        "    quantile_lower = (1 - alpha) / 2\n",
        "    quantile_upper = (1 + alpha) / 2\n",
        "\n",
        "    # Assuming y_pred is a 1-dimensional array\n",
        "    sorted_indices = np.argsort(y_pred)\n",
        "    n = len(y_pred)\n",
        "\n",
        "    # Calculate lower and upper bounds for prediction intervals\n",
        "    lower_index = int(np.floor(quantile_lower * n))\n",
        "    upper_index = int(np.floor(quantile_upper * n))\n",
        "\n",
        "    lower_bound = y_pred[sorted_indices[lower_index]]\n",
        "    upper_bound = y_pred[sorted_indices[upper_index]]\n",
        "\n",
        "    # Output the results in the desired format\n",
        "    return pd.DataFrame({'Prediction': y_pred, 'Lower': lower_bound, 'Upper': upper_bound})"
      ]
    },
    {
      "cell_type": "code",
      "execution_count": null,
      "id": "54fef196-5a40-4a55-acd3-dac31ea376bb",
      "metadata": {
        "id": "54fef196-5a40-4a55-acd3-dac31ea376bb"
      },
      "outputs": [],
      "source": [
        "def evaluate_model(y_test, y_pred_int):\n",
        "    # Evaluate the model\n",
        "    mse = mean_squared_error(y_test, y_pred_int)\n",
        "    r2 = r2_score(y_test, y_pred_int)\n",
        "\n",
        "    print(f\"Mean Squared Error: {mse}\")\n",
        "    print(f\"R-squared: {r2}\")"
      ]
    },
    {
      "cell_type": "code",
      "execution_count": null,
      "id": "4292fb4c-af98-420c-93df-8489d3d1e84b",
      "metadata": {
        "id": "4292fb4c-af98-420c-93df-8489d3d1e84b"
      },
      "outputs": [],
      "source": [
        "def get_predictions(x, model):\n",
        "    # Make predictions\n",
        "    y_pred = model.predict(x)\n",
        "\n",
        "    # Convert predictions to integers\n",
        "    y_pred_int = np.round(y_pred).astype(int)\n",
        "\n",
        "    return y_pred_int"
      ]
    },
    {
      "cell_type": "markdown",
      "id": "e1c02b01-da1c-4538-8107-24b9b1f629a7",
      "metadata": {
        "id": "e1c02b01-da1c-4538-8107-24b9b1f629a7"
      },
      "source": [
        "# Prepare the data\n",
        "----"
      ]
    },
    {
      "cell_type": "markdown",
      "id": "eb067369-8b2e-4004-bb04-ebd5bcdeb191",
      "metadata": {
        "id": "eb067369-8b2e-4004-bb04-ebd5bcdeb191"
      },
      "source": [
        "## Load data"
      ]
    },
    {
      "cell_type": "code",
      "execution_count": null,
      "id": "3e0a127a-4df9-44fe-8789-ec4c958ce620",
      "metadata": {
        "id": "3e0a127a-4df9-44fe-8789-ec4c958ce620"
      },
      "outputs": [],
      "source": [
        "# Load kyoto dataframe\n",
        "data = pd.read_csv(\"/content/no_outliers.csv\")\n",
        "\n",
        "# Remove metadata columns\n",
        "# data = data.drop(columns=['location', 'lat', 'long', 'alt', 'year', 'bloom_date'])"
      ]
    },
    {
      "cell_type": "markdown",
      "id": "f9d02528-937e-4c6d-a241-14f54f28c166",
      "metadata": {
        "id": "f9d02528-937e-4c6d-a241-14f54f28c166"
      },
      "source": [
        "## Normalize data"
      ]
    },
    {
      "cell_type": "code",
      "execution_count": null,
      "id": "9d07a99f-e3bf-4659-b607-d3b0db2fc2ba",
      "metadata": {
        "id": "9d07a99f-e3bf-4659-b607-d3b0db2fc2ba"
      },
      "outputs": [],
      "source": [
        "# Normalize the data\n",
        "norm_df = (data - data.min()) / (data.max() - data.min())\n",
        "\n",
        "# Correlation matrix\n",
        "min_max_corr = norm_df.corr()\n",
        "# min_max_corr.to_csv(\"min_max_norm_corr.csv\")"
      ]
    },
    {
      "cell_type": "markdown",
      "id": "ef4cb694-725c-409b-bab9-3456dcf5b185",
      "metadata": {
        "id": "ef4cb694-725c-409b-bab9-3456dcf5b185"
      },
      "source": [
        "## Train-test split"
      ]
    },
    {
      "cell_type": "code",
      "execution_count": null,
      "id": "e3282cdf-90ae-4235-8e15-123b56af9410",
      "metadata": {
        "id": "e3282cdf-90ae-4235-8e15-123b56af9410"
      },
      "outputs": [],
      "source": [
        "# Split features (X) and target variable (y)\n",
        "X = data.drop(columns=['bloom_doy'])\n",
        "y = data['bloom_doy']\n",
        "\n",
        "# Split the data into training and testing sets\n",
        "X_train, X_test, y_train, y_test = train_test_split(X, y, test_size=0.2, random_state=42)"
      ]
    },
    {
      "cell_type": "markdown",
      "id": "e83d234a-9ddf-4193-a139-ef0a9bc50a36",
      "metadata": {
        "id": "e83d234a-9ddf-4193-a139-ef0a9bc50a36"
      },
      "source": [
        "## Scale data"
      ]
    },
    {
      "cell_type": "code",
      "execution_count": null,
      "id": "f45e1464-b34c-4feb-aacb-8664737723dc",
      "metadata": {
        "id": "f45e1464-b34c-4feb-aacb-8664737723dc"
      },
      "outputs": [],
      "source": [
        "scaler = StandardScaler()"
      ]
    },
    {
      "cell_type": "code",
      "execution_count": null,
      "id": "647c2fc6-fc47-41f4-bb1d-af7ba349c6b7",
      "metadata": {
        "id": "647c2fc6-fc47-41f4-bb1d-af7ba349c6b7"
      },
      "outputs": [],
      "source": [
        "X_train_scaled = scaler.fit_transform(X_train)\n",
        "X_test_scaled = scaler.transform(X_test)"
      ]
    },
    {
      "cell_type": "markdown",
      "id": "ac870b88-df37-440d-8e62-2b0e35b8ea40",
      "metadata": {
        "id": "ac870b88-df37-440d-8e62-2b0e35b8ea40"
      },
      "source": [
        "# Evaluate Models\n",
        "----"
      ]
    },
    {
      "cell_type": "markdown",
      "id": "3a3632ee-58d9-42e6-9648-362d440da0c5",
      "metadata": {
        "id": "3a3632ee-58d9-42e6-9648-362d440da0c5"
      },
      "source": [
        "## 2. Gradient Booster Regression"
      ]
    },
    {
      "cell_type": "code",
      "execution_count": null,
      "id": "40925ae1-16d6-4fff-b1e5-909dd65295ab",
      "metadata": {
        "id": "40925ae1-16d6-4fff-b1e5-909dd65295ab"
      },
      "outputs": [],
      "source": [
        "param_grid_expansive = {\n",
        "    'n_estimators': [50, 100, 200, 300],  # Number of boosting stages\n",
        "    'learning_rate': [0.01, 0.05, 0.1, 0.2],  # Learning rate\n",
        "    'max_depth': [3, 4, 5, 6],  # Maximum depth of the individual estimators\n",
        "    'min_samples_split': [2, 5, 10, 15],  # Minimum number of samples required to split an internal node\n",
        "    'min_samples_leaf': [1, 2, 4, 6],  # Minimum number of samples required to be at a leaf node\n",
        "    'subsample': [0.8, 0.9, 1.0],  # Subsample ratio of the training instance\n",
        "    'max_features': [1.0, 'sqrt', 'log2', None],  # Number of features to consider at each split\n",
        "    'loss': ['ls', 'lad', 'huber', 'quantile'],  # Loss function to be optimized\n",
        "    'alpha': [0.5, 0.9],  # Quantile regression alpha parameter (if loss='quantile')\n",
        "    'criterion': ['friedman_mse', 'mse', 'mae']  # Function to measure the quality of a split\n",
        "}"
      ]
    },
    {
      "cell_type": "code",
      "source": [
        "param_grid_base = {\n",
        "    'n_estimators': [50, 100, 200],  # Number of boosting stages\n",
        "    'learning_rate': [0.01, 0.1, 0.2],  # Learning rate\n",
        "    'max_depth': [3, 4, 5],  # Maximum depth of the individual estimators\n",
        "    'min_samples_split': [2, 5, 10],  # Minimum number of samples required to split an internal node\n",
        "    'min_samples_leaf': [1, 2, 4],  # Minimum number of samples required to be at a leaf node\n",
        "    'subsample': [0.8, 0.9, 1.0],  # Subsample ratio of the training instance\n",
        "    'max_features': ['auto', 'sqrt', 'log2']  # Number of features to consider at each split\n",
        "}"
      ],
      "metadata": {
        "id": "z9WKydpVFcr4"
      },
      "id": "z9WKydpVFcr4",
      "execution_count": null,
      "outputs": []
    },
    {
      "cell_type": "code",
      "source": [
        "# Initialize and train the Gradient Boosting Regressor\n",
        "model = GradientBoostingRegressor(n_estimators=100, learning_rate=0.1, random_state=42)\n",
        "model.fit(X_train_scaled, y_train)"
      ],
      "metadata": {
        "colab": {
          "base_uri": "https://localhost:8080/",
          "height": 75
        },
        "id": "ntmblYS6MPo0",
        "outputId": "d21f46ec-531b-42f7-c1d6-3197c6cf3609"
      },
      "id": "ntmblYS6MPo0",
      "execution_count": null,
      "outputs": [
        {
          "output_type": "execute_result",
          "data": {
            "text/plain": [
              "GradientBoostingRegressor(random_state=42)"
            ],
            "text/html": [
              "<style>#sk-container-id-3 {color: black;background-color: white;}#sk-container-id-3 pre{padding: 0;}#sk-container-id-3 div.sk-toggleable {background-color: white;}#sk-container-id-3 label.sk-toggleable__label {cursor: pointer;display: block;width: 100%;margin-bottom: 0;padding: 0.3em;box-sizing: border-box;text-align: center;}#sk-container-id-3 label.sk-toggleable__label-arrow:before {content: \"▸\";float: left;margin-right: 0.25em;color: #696969;}#sk-container-id-3 label.sk-toggleable__label-arrow:hover:before {color: black;}#sk-container-id-3 div.sk-estimator:hover label.sk-toggleable__label-arrow:before {color: black;}#sk-container-id-3 div.sk-toggleable__content {max-height: 0;max-width: 0;overflow: hidden;text-align: left;background-color: #f0f8ff;}#sk-container-id-3 div.sk-toggleable__content pre {margin: 0.2em;color: black;border-radius: 0.25em;background-color: #f0f8ff;}#sk-container-id-3 input.sk-toggleable__control:checked~div.sk-toggleable__content {max-height: 200px;max-width: 100%;overflow: auto;}#sk-container-id-3 input.sk-toggleable__control:checked~label.sk-toggleable__label-arrow:before {content: \"▾\";}#sk-container-id-3 div.sk-estimator input.sk-toggleable__control:checked~label.sk-toggleable__label {background-color: #d4ebff;}#sk-container-id-3 div.sk-label input.sk-toggleable__control:checked~label.sk-toggleable__label {background-color: #d4ebff;}#sk-container-id-3 input.sk-hidden--visually {border: 0;clip: rect(1px 1px 1px 1px);clip: rect(1px, 1px, 1px, 1px);height: 1px;margin: -1px;overflow: hidden;padding: 0;position: absolute;width: 1px;}#sk-container-id-3 div.sk-estimator {font-family: monospace;background-color: #f0f8ff;border: 1px dotted black;border-radius: 0.25em;box-sizing: border-box;margin-bottom: 0.5em;}#sk-container-id-3 div.sk-estimator:hover {background-color: #d4ebff;}#sk-container-id-3 div.sk-parallel-item::after {content: \"\";width: 100%;border-bottom: 1px solid gray;flex-grow: 1;}#sk-container-id-3 div.sk-label:hover label.sk-toggleable__label {background-color: #d4ebff;}#sk-container-id-3 div.sk-serial::before {content: \"\";position: absolute;border-left: 1px solid gray;box-sizing: border-box;top: 0;bottom: 0;left: 50%;z-index: 0;}#sk-container-id-3 div.sk-serial {display: flex;flex-direction: column;align-items: center;background-color: white;padding-right: 0.2em;padding-left: 0.2em;position: relative;}#sk-container-id-3 div.sk-item {position: relative;z-index: 1;}#sk-container-id-3 div.sk-parallel {display: flex;align-items: stretch;justify-content: center;background-color: white;position: relative;}#sk-container-id-3 div.sk-item::before, #sk-container-id-3 div.sk-parallel-item::before {content: \"\";position: absolute;border-left: 1px solid gray;box-sizing: border-box;top: 0;bottom: 0;left: 50%;z-index: -1;}#sk-container-id-3 div.sk-parallel-item {display: flex;flex-direction: column;z-index: 1;position: relative;background-color: white;}#sk-container-id-3 div.sk-parallel-item:first-child::after {align-self: flex-end;width: 50%;}#sk-container-id-3 div.sk-parallel-item:last-child::after {align-self: flex-start;width: 50%;}#sk-container-id-3 div.sk-parallel-item:only-child::after {width: 0;}#sk-container-id-3 div.sk-dashed-wrapped {border: 1px dashed gray;margin: 0 0.4em 0.5em 0.4em;box-sizing: border-box;padding-bottom: 0.4em;background-color: white;}#sk-container-id-3 div.sk-label label {font-family: monospace;font-weight: bold;display: inline-block;line-height: 1.2em;}#sk-container-id-3 div.sk-label-container {text-align: center;}#sk-container-id-3 div.sk-container {/* jupyter's `normalize.less` sets `[hidden] { display: none; }` but bootstrap.min.css set `[hidden] { display: none !important; }` so we also need the `!important` here to be able to override the default hidden behavior on the sphinx rendered scikit-learn.org. See: https://github.com/scikit-learn/scikit-learn/issues/21755 */display: inline-block !important;position: relative;}#sk-container-id-3 div.sk-text-repr-fallback {display: none;}</style><div id=\"sk-container-id-3\" class=\"sk-top-container\"><div class=\"sk-text-repr-fallback\"><pre>GradientBoostingRegressor(random_state=42)</pre><b>In a Jupyter environment, please rerun this cell to show the HTML representation or trust the notebook. <br />On GitHub, the HTML representation is unable to render, please try loading this page with nbviewer.org.</b></div><div class=\"sk-container\" hidden><div class=\"sk-item\"><div class=\"sk-estimator sk-toggleable\"><input class=\"sk-toggleable__control sk-hidden--visually\" id=\"sk-estimator-id-3\" type=\"checkbox\" checked><label for=\"sk-estimator-id-3\" class=\"sk-toggleable__label sk-toggleable__label-arrow\">GradientBoostingRegressor</label><div class=\"sk-toggleable__content\"><pre>GradientBoostingRegressor(random_state=42)</pre></div></div></div></div></div>"
            ]
          },
          "metadata": {},
          "execution_count": 19
        }
      ]
    },
    {
      "cell_type": "code",
      "execution_count": null,
      "metadata": {
        "id": "pswAuP6jDq0O"
      },
      "outputs": [],
      "source": [
        "y_pred_int = get_predictions(X_test_scaled, model)"
      ],
      "id": "pswAuP6jDq0O"
    },
    {
      "cell_type": "code",
      "execution_count": null,
      "metadata": {
        "colab": {
          "base_uri": "https://localhost:8080/"
        },
        "outputId": "4f048892-83c9-4bca-849c-49ec9296f160",
        "id": "gFF5RK4EDq0O"
      },
      "outputs": [
        {
          "output_type": "stream",
          "name": "stdout",
          "text": [
            "Mean Squared Error: 359.7916666666667\n",
            "R-squared: -0.4709165014984906\n"
          ]
        }
      ],
      "source": [
        "evaluate_model(y_test, y_pred_int)"
      ],
      "id": "gFF5RK4EDq0O"
    },
    {
      "cell_type": "code",
      "source": [
        "# Get feature importances\n",
        "feature_importances = model.feature_importances_\n",
        "\n",
        "# Sort feature importances in descending order\n",
        "indices = np.argsort(feature_importances)[::-1]\n",
        "\n",
        "# Plot feature importances\n",
        "plt.figure(figsize=(10, 6))\n",
        "plt.title(\"Feature Importances\")\n",
        "plt.bar(range(X.shape[1]), feature_importances[indices], align=\"center\")\n",
        "plt.xticks(range(X.shape[1]), X.columns[indices], rotation=90)\n",
        "plt.xlim([-1, X.shape[1]])\n",
        "plt.show()"
      ],
      "metadata": {
        "colab": {
          "base_uri": "https://localhost:8080/",
          "height": 672
        },
        "id": "yrFNoPV-HTqv",
        "outputId": "121f5108-1e4f-45ae-c203-ee025cb0ed4b"
      },
      "id": "yrFNoPV-HTqv",
      "execution_count": null,
      "outputs": [
        {
          "output_type": "display_data",
          "data": {
            "text/plain": [
              "<Figure size 1000x600 with 1 Axes>"
            ],
            "image/png": "[encoded data removed]"
          },
          "metadata": {}
        }
      ]
    },
    {
      "cell_type": "code",
      "source": [
        "# Choose a threshold (e.g., 95% of cumulative importance) for importance\n",
        "threshold = 0.90\n",
        "\n",
        "cumulative_importance = np.cumsum(feature_importances[indices])\n",
        "plt.plot(range(len(cumulative_importance)), cumulative_importance)\n",
        "plt.xlabel('Number of Features')\n",
        "plt.ylabel('Cumulative Importance')\n",
        "plt.title('Cumulative Feature Importance')\n",
        "plt.grid(True)\n",
        "plt.show()\n",
        "\n",
        "selected_features = X.columns[indices][:np.argmax(cumulative_importance >= threshold) + 1]\n",
        "print(\"Number of features: \", len(selected_features))\n",
        "print(\"Selected Features:\", selected_features)"
      ],
      "metadata": {
        "colab": {
          "base_uri": "https://localhost:8080/",
          "height": 628
        },
        "id": "-o24LbW8DjqQ",
        "outputId": "9bb91320-7682-4add-ff65-d2c9a13faa19"
      },
      "id": "-o24LbW8DjqQ",
      "execution_count": null,
      "outputs": [
        {
          "output_type": "display_data",
          "data": {
            "text/plain": [
              "<Figure size 640x480 with 1 Axes>"
            ],
            "image/png": "[encoded data removed]"
          },
          "metadata": {}
        },
        {
          "output_type": "stream",
          "name": "stdout",
          "text": [
            "Number of features:  27\n",
            "Selected Features: Index(['day_length_11', 'day_length_08', 'cloudcover_08', 'windspeedmax_03',\n",
            "       'windspeedmax_07', 'tempmax_08', 'day_length_05', 'tempmin_08',\n",
            "       'cloudcover_11', 'cloudcover_07', 'day_length_02', 'uvindex_08',\n",
            "       'windspeedmax_11', 'day_length_09', 'windgust_07', 'windspeedmin_08',\n",
            "       'windspeedmin_07', 'sealevelpressure_03', 'precipprob_10',\n",
            "       'day_length_03', 'day_length_12', 'humidity_07', 'windgust_08',\n",
            "       'windspeedmin_10', 'tempmax_02', 'windspeedmax_10', 'humidity_09'],\n",
            "      dtype='object')\n"
          ]
        }
      ]
    },
    {
      "cell_type": "code",
      "execution_count": null,
      "metadata": {
        "id": "BFNawd2hK2oT"
      },
      "outputs": [],
      "source": [
        "# Split features (X) and target variable (y)\n",
        "X = data[selected_features]\n",
        "y = data['bloom_doy']\n",
        "\n",
        "# Split the data into training and testing sets\n",
        "X_train, X_test, y_train, y_test = train_test_split(X, y, test_size=0.2, random_state=42)"
      ],
      "id": "BFNawd2hK2oT"
    },
    {
      "cell_type": "code",
      "execution_count": null,
      "metadata": {
        "id": "1FreTbVGK2oU"
      },
      "outputs": [],
      "source": [
        "scaler = StandardScaler()"
      ],
      "id": "1FreTbVGK2oU"
    },
    {
      "cell_type": "code",
      "execution_count": null,
      "metadata": {
        "id": "r6LBfhoQK2oV"
      },
      "outputs": [],
      "source": [
        "X_train_scaled = scaler.fit_transform(X_train)\n",
        "X_test_scaled = scaler.transform(X_test)"
      ],
      "id": "r6LBfhoQK2oV"
    },
    {
      "cell_type": "code",
      "execution_count": null,
      "id": "c7da527b-4c09-43a9-a61d-ebef1adc35ea",
      "metadata": {
        "colab": {
          "base_uri": "https://localhost:8080/"
        },
        "id": "c7da527b-4c09-43a9-a61d-ebef1adc35ea",
        "outputId": "7ad18913-e978-42a5-b951-a440b8f4b9dc"
      },
      "outputs": [
        {
          "output_type": "stream",
          "name": "stdout",
          "text": [
            "Best Hyperparameters: {'learning_rate': 0.2, 'max_depth': 4, 'max_features': 'sqrt', 'min_samples_leaf': 1, 'min_samples_split': 5, 'n_estimators': 100, 'subsample': 1.0}\n"
          ]
        }
      ],
      "source": [
        "# Initialize the Gradient Boosting Regressor\n",
        "model = GradientBoostingRegressor()\n",
        "\n",
        "# Initialize GridSearchCV\n",
        "grid_search = GridSearchCV(estimator=model, param_grid=param_grid_base, cv=5, scoring='neg_mean_squared_error', n_jobs=-1)\n",
        "\n",
        "# Perform grid search\n",
        "grid_search.fit(X_train_scaled, y_train)\n",
        "\n",
        "# Get the best hyperparameters\n",
        "best_params = grid_search.best_params_\n",
        "\n",
        "# Optionally, you can print the best hyperparameters\n",
        "print(\"Best Hyperparameters:\", best_params)"
      ]
    },
    {
      "cell_type": "code",
      "source": [
        "# Train the model with the best hyperparameters\n",
        "best_model = GradientBoostingRegressor(**best_params)\n",
        "best_model.fit(X_train_scaled, y_train)\n",
        "\n",
        "y_pred_int = get_predictions(X_test_scaled, best_model)\n",
        "\n",
        "evaluate_model(y_test, y_pred_int)"
      ],
      "metadata": {
        "colab": {
          "base_uri": "https://localhost:8080/"
        },
        "id": "CsTftsmxN3bo",
        "outputId": "3ba9ad69-9075-46eb-b4ee-da4846ce888f"
      },
      "id": "CsTftsmxN3bo",
      "execution_count": null,
      "outputs": [
        {
          "output_type": "stream",
          "name": "stdout",
          "text": [
            "Mean Squared Error: 133.20833333333334\n",
            "R-squared: 0.4554116901805819\n"
          ]
        }
      ]
    },
    {
      "cell_type": "code",
      "source": [
        "selected_features"
      ],
      "metadata": {
        "colab": {
          "base_uri": "https://localhost:8080/"
        },
        "id": "_TXZZY4sFIio",
        "outputId": "fdb3ecf1-4049-4e2c-ddc0-bdc1de060e54"
      },
      "id": "_TXZZY4sFIio",
      "execution_count": null,
      "outputs": [
        {
          "output_type": "execute_result",
          "data": {
            "text/plain": [
              "Index(['day_length_11', 'day_length_08', 'cloudcover_08', 'windspeedmax_03',\n",
              "       'windspeedmax_07', 'tempmax_08', 'day_length_05', 'tempmin_08',\n",
              "       'cloudcover_11', 'cloudcover_07', 'day_length_02', 'uvindex_08',\n",
              "       'windspeedmax_11', 'day_length_09', 'windgust_07', 'windspeedmin_08',\n",
              "       'windspeedmin_07', 'sealevelpressure_03', 'precipprob_10',\n",
              "       'day_length_03', 'day_length_12', 'humidity_07', 'windgust_08',\n",
              "       'windspeedmin_10', 'tempmax_02', 'windspeedmax_10', 'humidity_09'],\n",
              "      dtype='object')"
            ]
          },
          "metadata": {},
          "execution_count": 44
        }
      ]
    },
    {
      "cell_type": "code",
      "source": [
        "best_model.get_params()"
      ],
      "metadata": {
        "colab": {
          "base_uri": "https://localhost:8080/"
        },
        "id": "L2pAJtAHO3JL",
        "outputId": "ee6e2a9e-b213-4003-f18f-5edf849b8676"
      },
      "id": "L2pAJtAHO3JL",
      "execution_count": null,
      "outputs": [
        {
          "output_type": "execute_result",
          "data": {
            "text/plain": [
              "{'alpha': 0.9,\n",
              " 'ccp_alpha': 0.0,\n",
              " 'criterion': 'friedman_mse',\n",
              " 'init': None,\n",
              " 'learning_rate': 0.2,\n",
              " 'loss': 'squared_error',\n",
              " 'max_depth': 4,\n",
              " 'max_features': 'sqrt',\n",
              " 'max_leaf_nodes': None,\n",
              " 'min_impurity_decrease': 0.0,\n",
              " 'min_samples_leaf': 1,\n",
              " 'min_samples_split': 5,\n",
              " 'min_weight_fraction_leaf': 0.0,\n",
              " 'n_estimators': 100,\n",
              " 'n_iter_no_change': None,\n",
              " 'random_state': None,\n",
              " 'subsample': 1.0,\n",
              " 'tol': 0.0001,\n",
              " 'validation_fraction': 0.1,\n",
              " 'verbose': 0,\n",
              " 'warm_start': False}"
            ]
          },
          "metadata": {},
          "execution_count": 45
        }
      ]
    },
    {
      "cell_type": "code",
      "source": [
        "y_test"
      ],
      "metadata": {
        "colab": {
          "base_uri": "https://localhost:8080/"
        },
        "id": "KOpGrDEZOe8W",
        "outputId": "c0f0207b-6885-43af-8819-f0ae1e2c3566"
      },
      "id": "KOpGrDEZOe8W",
      "execution_count": null,
      "outputs": [
        {
          "output_type": "execute_result",
          "data": {
            "text/plain": [
              "115     81\n",
              "15      97\n",
              "211     86\n",
              "126     81\n",
              "6      101\n",
              "170     97\n",
              "9       93\n",
              "221     86\n",
              "112    132\n",
              "220     91\n",
              "182     99\n",
              "137    101\n",
              "30     126\n",
              "193     95\n",
              "113    145\n",
              "55      97\n",
              "24     112\n",
              "205     98\n",
              "86      96\n",
              "19     126\n",
              "206    101\n",
              "120     89\n",
              "141     81\n",
              "234     87\n",
              "10      94\n",
              "218     99\n",
              "172     99\n",
              "109    140\n",
              "75      91\n",
              "25     126\n",
              "124     98\n",
              "185     95\n",
              "235     80\n",
              "18     130\n",
              "68     102\n",
              "60      97\n",
              "148     92\n",
              "204     88\n",
              "114     88\n",
              "73      97\n",
              "82      88\n",
              "45     108\n",
              "16      96\n",
              "93      97\n",
              "186     95\n",
              "167     88\n",
              "38     125\n",
              "127     90\n",
              "Name: bloom_doy, dtype: int64"
            ]
          },
          "metadata": {},
          "execution_count": 46
        }
      ]
    },
    {
      "cell_type": "code",
      "source": [
        "y_pred_int"
      ],
      "metadata": {
        "colab": {
          "base_uri": "https://localhost:8080/"
        },
        "id": "DxhKSxCKOhH2",
        "outputId": "9f8b6a01-cf31-4780-ab51-8f21600473f5"
      },
      "id": "DxhKSxCKOhH2",
      "execution_count": null,
      "outputs": [
        {
          "output_type": "execute_result",
          "data": {
            "text/plain": [
              "array([ 91, 108,  95,  90,  96,  91,  98,  86, 146,  90, 100,  94, 116,\n",
              "        94, 125, 145, 103,  90,  96, 109,  95,  89,  93,  85,  97,  92,\n",
              "        97, 125,  85, 112,  94,  97,  94,  99, 111,  95,  89,  88,  91,\n",
              "        96,  90, 101, 108,  97,  96,  88, 109,  89])"
            ]
          },
          "metadata": {},
          "execution_count": 47
        }
      ]
    },
    {
      "cell_type": "code",
      "source": [
        "selected_params =   {'alpha': 0.9,\n",
        " 'ccp_alpha': 0.0,\n",
        " 'criterion': 'friedman_mse',\n",
        " 'init': None,\n",
        " 'learning_rate': 0.2,\n",
        " 'loss': 'squared_error',\n",
        " 'max_depth': 5,\n",
        " 'max_features': 'sqrt',\n",
        " 'max_leaf_nodes': None,\n",
        " 'min_impurity_decrease': 0.0,\n",
        " 'min_samples_leaf': 4,\n",
        " 'min_samples_split': 10,\n",
        " 'min_weight_fraction_leaf': 0.0,\n",
        " 'n_estimators': 50,\n",
        " 'n_iter_no_change': None,\n",
        " 'random_state': 42,\n",
        " 'subsample': 0.8,\n",
        " 'tol': 0.0001,\n",
        " 'validation_fraction': 0.1,\n",
        " 'verbose': 0,\n",
        " 'warm_start': False}"
      ],
      "metadata": {
        "id": "ya7qQRmnPbYP"
      },
      "id": "ya7qQRmnPbYP",
      "execution_count": null,
      "outputs": []
    },
    {
      "cell_type": "code",
      "source": [
        "# Train the model with the best hyperparameters\n",
        "model = GradientBoostingRegressor(**selected_params)\n",
        "model.fit(X_train_scaled, y_train)\n",
        "\n",
        "y_pred_int = get_predictions(X_test_scaled, model)\n",
        "\n",
        "evaluate_model(y_test, y_pred_int)"
      ],
      "metadata": {
        "colab": {
          "base_uri": "https://localhost:8080/"
        },
        "id": "MKp2-CYIPkL0",
        "outputId": "d2bd6570-5375-4778-e051-b378444c779c"
      },
      "id": "MKp2-CYIPkL0",
      "execution_count": null,
      "outputs": [
        {
          "output_type": "stream",
          "name": "stdout",
          "text": [
            "Mean Squared Error: 100.54166666666667\n",
            "R-squared: 0.5889610285910992\n"
          ]
        }
      ]
    }
  ],
  "metadata": {
    "kernelspec": {
      "display_name": "Python 3",
      "name": "python3"
    },
    "language_info": {
      "codemirror_mode": {
        "name": "ipython",
        "version": 3
      },
      "file_extension": ".py",
      "mimetype": "text/x-python",
      "name": "python",
      "nbconvert_exporter": "python",
      "pygments_lexer": "ipython3",
      "version": "3.11.1"
    },
    "colab": {
      "provenance": [],
      "gpuType": "A100"
    },
    "accelerator": "GPU"
  },
  "nbformat": 4,
  "nbformat_minor": 5
}