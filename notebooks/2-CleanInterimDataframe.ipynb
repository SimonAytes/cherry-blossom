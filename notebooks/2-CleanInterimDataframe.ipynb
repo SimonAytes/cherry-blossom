{
 "cells": [
  {
   "cell_type": "markdown",
   "id": "257e546c-28ed-4a79-8605-1cfa4e47ec8d",
   "metadata": {},
   "source": [
    "# 2. Clean Interim Data"
   ]
  },
  {
   "cell_type": "markdown",
   "id": "152787b0-a121-464f-8b64-75a726be12a1",
   "metadata": {},
   "source": [
    "xxxx"
   ]
  },
  {
   "cell_type": "code",
   "execution_count": 1,
   "id": "97e9f63d-ad59-49aa-9658-7cb188c8a634",
   "metadata": {},
   "outputs": [],
   "source": [
    "import pandas as pd\n",
    "import datetime as dt\n",
    "import os"
   ]
  },
  {
   "cell_type": "code",
   "execution_count": 2,
   "id": "eb4053c3-7f35-4948-a680-d900cfee9780",
   "metadata": {},
   "outputs": [],
   "source": [
    "def clean_df(file_path):\n",
    "    df = pd.read_csv(file_path)\n",
    "    \n",
    "    # Get name for the dataframe\n",
    "    df_name_str = df.iloc[0]['name']\n",
    "    \n",
    "    # Calculate the total seconds of sunlight in the day\n",
    "    df['sunrise'] = pd.to_datetime(df['sunrise'], format='%Y-%m-%dT%H:%M:%S')\n",
    "    df['sunset'] = pd.to_datetime(df['sunset'], format='%Y-%m-%dT%H:%M:%S')\n",
    "    df['day_length'] = (df['sunset'] - df['sunrise']).dt.total_seconds()\n",
    "    \n",
    "    # Convert 'datetime' column to datetime datatype\n",
    "    df['datetime'] = pd.to_datetime(df['datetime'])\n",
    "    \n",
    "    # Extract year and month\n",
    "    df['year'] = df['datetime'].dt.year\n",
    "    df['month'] = df['datetime'].dt.month\n",
    "    \n",
    "    # Group by year and calculate average values for each year\n",
    "    yearly_avg = df.groupby('year').agg({\n",
    "        'day_length': 'mean',\n",
    "        'tempmax': 'mean',\n",
    "        'tempmin': 'mean',\n",
    "        'temp': 'mean',\n",
    "        'dew': 'mean',\n",
    "        'humidity': 'mean',\n",
    "        'precip': 'mean',\n",
    "        'precipprob': 'mean',\n",
    "        'precipcover': 'mean',\n",
    "        'snowdepth': 'mean',\n",
    "        'windgust': 'mean',\n",
    "        'windspeed': 'mean',\n",
    "        'windspeedmax': 'mean',\n",
    "        'windspeedmean': 'mean',\n",
    "        'windspeedmin': 'mean',\n",
    "        'sealevelpressure': 'mean',\n",
    "        'cloudcover': 'mean',\n",
    "        'solarradiation': 'mean',\n",
    "        'solarenergy': 'mean',\n",
    "        'uvindex': 'mean'\n",
    "    }).reset_index()\n",
    "    \n",
    "    # Calculate monthly averages for each feature\n",
    "    monthly_avg = df.groupby(['year', 'month']).mean(numeric_only=True).unstack()\n",
    "    \n",
    "    # Calculate yearly averages for each feature\n",
    "    yearly_avg = df.groupby('year').mean(numeric_only=True)\n",
    "    \n",
    "    # Drop redundant columns\n",
    "    yearly_avg.drop(columns=['day_length', 'month', 'tempmax', 'tempmin', 'temp', 'dew', 'humidity', 'precip', 'precipprob', 'precipcover', 'snowdepth', 'windgust', 'windspeed', 'windspeedmax', 'windspeedmean', 'windspeedmin', 'sealevelpressure', 'cloudcover', 'solarradiation', 'solarenergy', 'uvindex'], inplace=True)\n",
    "    \n",
    "    # Combine monthly and yearly averages\n",
    "    final_df = pd.concat([yearly_avg, monthly_avg], axis=1)\n",
    "    \n",
    "    # Rename columns for clarity\n",
    "    final_df.columns = [f'{col[0]}_{col[1]:02d}' if isinstance(col, tuple) else col for col in final_df.columns]\n",
    "\n",
    "    # Turn the index column into a real column\n",
    "    final_df.reset_index(inplace=True)\n",
    "\n",
    "    # Add the name of the dataframe\n",
    "    final_df.insert(0, 'location', df_name_str)\n",
    "\n",
    "    return final_df"
   ]
  },
  {
   "cell_type": "code",
   "execution_count": 3,
   "id": "ec7a606b-f4cd-41d9-a7dc-904bf8871c8c",
   "metadata": {},
   "outputs": [],
   "source": [
    "def process_weather_files(dir_path):\n",
    "    # Check if the path exists\n",
    "    if not os.path.exists(dir_path):\n",
    "        print(f\"Path '{dir_path}' does not exist.\")\n",
    "        return\n",
    "\n",
    "    df_dict = {}\n",
    "    \n",
    "    # Iterate through files in the directory\n",
    "    for filename in os.listdir(dir_path):\n",
    "        if filename.endswith('.csv'):\n",
    "            # Construct the full file path\n",
    "            file_path = os.path.join(dir_path, filename)\n",
    "            \n",
    "            # Read the CSV file into a pandas DataFrame\n",
    "            df = clean_df(file_path)\n",
    "\n",
    "            # Append the cleaned df to the list\n",
    "            df_dict[filename] = df\n",
    "    \n",
    "    # Return the list of cleaned dfs\n",
    "    return df_dict"
   ]
  },
  {
   "cell_type": "code",
   "execution_count": 4,
   "id": "c808211d-42b4-4c46-ae01-09cdc7652fad",
   "metadata": {},
   "outputs": [],
   "source": [
    "dir_paths = [\"../data/interim/representative_locations/weather/src\",\n",
    "             \"../data/interim/main_locations/weather/src\"]\n",
    "\n",
    "OUTPUT_PATHS = [\"../data/interim/representative_locations/weather/monthly_agg/\",\n",
    "                \"../data/interim/main_locations/weather/monthly_agg/\"]"
   ]
  },
  {
   "cell_type": "code",
   "execution_count": 5,
   "id": "f361f25c-9e17-4b6c-ab7a-ffcebc562207",
   "metadata": {},
   "outputs": [],
   "source": [
    "for index in range(0, len(dir_paths)):\n",
    "    # Process the raw data\n",
    "    df_dict = process_weather_files(dir_paths[index])\n",
    "    \n",
    "    # Output the aggregated files\n",
    "    for file_name in df_dict:\n",
    "        df_dict[file_name].to_csv(f\"{OUTPUT_PATHS[index]}{file_name}\", index=False)"
   ]
  }
 ],
 "metadata": {
  "kernelspec": {
   "display_name": "Python 3 (ipykernel)",
   "language": "python",
   "name": "python3"
  },
  "language_info": {
   "codemirror_mode": {
    "name": "ipython",
    "version": 3
   },
   "file_extension": ".py",
   "mimetype": "text/x-python",
   "name": "python",
   "nbconvert_exporter": "python",
   "pygments_lexer": "ipython3",
   "version": "3.11.1"
  }
 },
 "nbformat": 4,
 "nbformat_minor": 5
}
