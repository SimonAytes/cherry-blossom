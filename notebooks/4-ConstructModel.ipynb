{
 "cells": [
  {
   "cell_type": "markdown",
   "id": "64351f30-c058-4f5f-becf-f8bd561c9aa3",
   "metadata": {},
   "source": [
    "# 4. Construct Model"
   ]
  },
  {
   "cell_type": "markdown",
   "id": "a0b03e62-b725-4cc8-9145-e6843707d95f",
   "metadata": {},
   "source": [
    "xxx"
   ]
  },
  {
   "cell_type": "markdown",
   "id": "82feceed-ca00-4fbb-a162-1d96cf6b7e07",
   "metadata": {},
   "source": [
    "## 4.1 Environment Configuration"
   ]
  },
  {
   "cell_type": "markdown",
   "id": "6c028ed1-5b22-445a-a8dc-b3ea672d4d24",
   "metadata": {},
   "source": [
    "### 4.1.1 Import Libraries"
   ]
  },
  {
   "cell_type": "code",
   "execution_count": 20,
   "id": "70c8be4e-8c72-44c6-981a-a0346e0dc462",
   "metadata": {},
   "outputs": [],
   "source": [
    "import pandas as pd\n",
    "import seaborn as sn\n",
    "import matplotlib.pyplot as plt\n",
    "import numpy as np\n",
    "import joblib\n",
    "import os\n",
    "\n",
    "from sklearn.model_selection import train_test_split\n",
    "from sklearn.metrics import mean_squared_error, r2_score\n",
    "from sklearn.preprocessing import StandardScaler\n",
    "from sklearn.model_selection import GridSearchCV\n",
    "\n",
    "from sklearn.ensemble import GradientBoostingRegressor\n",
    "from sklearn.model_selection import RandomizedSearchCV\n",
    "from scipy.stats import randint, uniform"
   ]
  },
  {
   "cell_type": "markdown",
   "id": "e1a35ab8-8f39-40e0-90e9-a125b613a194",
   "metadata": {},
   "source": [
    "### 4.1.2 Define Utility Functions"
   ]
  },
  {
   "cell_type": "code",
   "execution_count": 2,
   "id": "bc9581a9-2b27-4439-afda-2aac5bd7ccfd",
   "metadata": {},
   "outputs": [],
   "source": [
    "def get_interval(y_pred, alpha=0.99):\n",
    "    # Calculate prediction intervals using quantiles\n",
    "    quantile_lower = (1 - alpha) / 2\n",
    "    quantile_upper = 1 - quantile_lower\n",
    "    \n",
    "    # Assuming y_pred is a 1-dimensional array\n",
    "    sorted_indices = np.argsort(y_pred)\n",
    "    n = len(y_pred)\n",
    "    \n",
    "    # Calculate lower and upper bounds for prediction intervals\n",
    "    lower_index = int(np.floor(quantile_lower * (n - 1)))\n",
    "    upper_index = int(np.ceil(quantile_upper * (n - 1)))\n",
    "    \n",
    "    lower_bound = y_pred[sorted_indices[lower_index]]\n",
    "    upper_bound = y_pred[sorted_indices[upper_index]]\n",
    "    \n",
    "    # Output the results in the desired format\n",
    "    return pd.DataFrame({'Prediction': y_pred, 'Lower': lower_bound, 'Upper': upper_bound})\n"
   ]
  },
  {
   "cell_type": "code",
   "execution_count": 3,
   "id": "566edeae-4482-4b50-a576-3befb671d81b",
   "metadata": {},
   "outputs": [],
   "source": [
    "def evaluate_model(y_test, y_pred_int):\n",
    "    # Evaluate the model\n",
    "    mse = mean_squared_error(y_test, y_pred_int)\n",
    "    r2 = r2_score(y_test, y_pred_int)\n",
    "    \n",
    "    print(f\"Mean Squared Error: {mse}\")\n",
    "    print(f\"R-squared: {r2}\")"
   ]
  },
  {
   "cell_type": "code",
   "execution_count": 4,
   "id": "314bd7ad-425f-4196-8caf-86d603b15a18",
   "metadata": {},
   "outputs": [],
   "source": [
    "def get_predictions(x, model):\n",
    "    # Make predictions\n",
    "    y_pred = model.predict(x)\n",
    "    \n",
    "    # Convert predictions to integers\n",
    "    y_pred_int = np.round(y_pred).astype(int)\n",
    "\n",
    "    return y_pred_int"
   ]
  },
  {
   "cell_type": "code",
   "execution_count": 5,
   "id": "6ff64b1b-1609-445b-8367-dc1786730856",
   "metadata": {},
   "outputs": [],
   "source": [
    "def compute_normalization_params(training_data):\n",
    "    \"\"\"\n",
    "    Compute normalization parameters (mean and standard deviation) from training data.\n",
    "\n",
    "    Parameters:\n",
    "        training_data (numpy array or pandas DataFrame): Training data used for computing normalization parameters.\n",
    "\n",
    "    Returns:\n",
    "        dict: Dictionary containing normalization parameters (e.g., 'mean' and 'std' for each feature).\n",
    "    \"\"\"\n",
    "    # Compute mean and standard deviation for each feature\n",
    "    mean = np.mean(training_data, axis=0)\n",
    "    std = np.std(training_data, axis=0)\n",
    "    \n",
    "    # Store the normalization parameters in a dictionary\n",
    "    normalization_params = {'mean': mean, 'std': std}\n",
    "    \n",
    "    return normalization_params"
   ]
  },
  {
   "cell_type": "markdown",
   "id": "363202e8-5627-41dc-b218-d379bcb93099",
   "metadata": {},
   "source": [
    "## 4.2 Data Preparation"
   ]
  },
  {
   "cell_type": "markdown",
   "id": "f9663907-6ed1-42b4-a40d-ee3e693ba0e3",
   "metadata": {},
   "source": [
    "### 4.2.1 Import Model Parameters"
   ]
  },
  {
   "cell_type": "code",
   "execution_count": 6,
   "id": "02fe73a6-3135-4a4f-acb7-2f3ad5c8e400",
   "metadata": {},
   "outputs": [],
   "source": [
    "# Best parameters chosen via Grid-Search HPO\n",
    "best_params = {\n",
    "    'alpha': 0.9,\n",
    "    'ccp_alpha': 0.0,\n",
    "    'criterion': 'friedman_mse',\n",
    "    'init': None,\n",
    "    'learning_rate': 0.2,\n",
    "    'loss': 'squared_error',\n",
    "    'max_depth': 5,\n",
    "    'max_features': 'sqrt',\n",
    "    'max_leaf_nodes': None,\n",
    "    'min_impurity_decrease': 0.0,\n",
    "    'min_samples_leaf': 2,\n",
    "    'min_samples_split': 2,\n",
    "    'min_weight_fraction_leaf': 0.0,\n",
    "    'n_estimators': 50,\n",
    "    'n_iter_no_change': None,\n",
    "    'random_state': 42,\n",
    "    'subsample': 0.8,\n",
    "    'tol': 0.0001,\n",
    "    'validation_fraction': 0.1,\n",
    "    'verbose': 0,\n",
    "    'warm_start': False\n",
    "}\n",
    "\n",
    "# Chosen via a 90% threshold analysis of feature importance\n",
    "selected_features = ['day_length_07', 'day_length_10', 'day_length_05', 'day_length_11',\n",
    "       'tempmax_05', 'windspeedmin_07', 'windspeedmin_09', 'humidity_07',\n",
    "       'day_length_06', 'day_length_02', 'tempmax_06', 'day_length_09',\n",
    "       'tempmax_07', 'tempmax_02', 'windspeed_04', 'snowdepth_01', 'dew_07',\n",
    "       'day_length_04', 'tempmax_08', 'day_length_12', 'humidity_05',\n",
    "       'windspeedmin_10', 'cloudcover_08', 'windspeed_09', 'windspeedmean_06',\n",
    "       'cloudcover_11', 'solarenergy_02', 'windspeedmax_11', 'uvindex_05',\n",
    "       'day_length_01', 'solarenergy_03', 'cloudcover_09', 'dew_04',\n",
    "       'humidity_09']"
   ]
  },
  {
   "cell_type": "markdown",
   "id": "50545587-e89b-4b1a-9ac1-db6da8166050",
   "metadata": {},
   "source": [
    "### 4.2.2 Load Combined Data"
   ]
  },
  {
   "cell_type": "code",
   "execution_count": 7,
   "id": "6c00a1ff-9cff-4f46-89d6-5e1354313c94",
   "metadata": {},
   "outputs": [],
   "source": [
    "# Load combined data\n",
    "data = pd.read_csv(\"../data/cleaned/combined.csv\")\n",
    "\n",
    "# Remove metadata columns\n",
    "data = data.drop(columns=['location', 'lat', 'long', 'alt', 'year', 'bloom_date'])"
   ]
  },
  {
   "cell_type": "markdown",
   "id": "ea2f179a-9af5-4d20-b990-a19f0df7f6d6",
   "metadata": {},
   "source": [
    "### 4.2.3 Scale Data"
   ]
  },
  {
   "cell_type": "code",
   "execution_count": 8,
   "id": "02bf4660-bb1b-45a7-825e-f5775c04a6ad",
   "metadata": {},
   "outputs": [],
   "source": [
    "scaler = StandardScaler()\n",
    "\n",
    "# Split features (X) and target variable (y)\n",
    "X = data.drop(columns=['bloom_doy'])\n",
    "y = data['bloom_doy']\n",
    "\n",
    "# Split the data into training and testing sets\n",
    "X_train, X_test, y_train, y_test = train_test_split(X, y, test_size=0.2, random_state=42)\n",
    "\n",
    "# Subset the data based on the selected features\n",
    "X_train_scaled = scaler.fit_transform(X_train[selected_features])\n",
    "X_test_scaled = scaler.transform(X_test[selected_features])"
   ]
  },
  {
   "cell_type": "markdown",
   "id": "5456eb84-52ec-4564-9953-f05e7ff5ea07",
   "metadata": {},
   "source": [
    "### 4.2.4 Capture Scaling Parameters"
   ]
  },
  {
   "cell_type": "code",
   "execution_count": 9,
   "id": "1fe89e3c-ea38-4847-a0df-c0618518e6e8",
   "metadata": {},
   "outputs": [],
   "source": [
    "# Capture scaling parameters using the X_train dataframe\n",
    "# Subset it by taking the selected_features\n",
    "normalization_params = compute_normalization_params(X_train[selected_features])"
   ]
  },
  {
   "cell_type": "markdown",
   "id": "a5f699c9-3ada-4a5f-8d3d-1ccfbfe37754",
   "metadata": {},
   "source": [
    "## 4.3 Train Model"
   ]
  },
  {
   "cell_type": "markdown",
   "id": "0f7e3c7d-924d-4fd1-b63a-8ef8d8bfaead",
   "metadata": {},
   "source": [
    "### 4.3.1 Initialize Model with Optimized Parameters"
   ]
  },
  {
   "cell_type": "code",
   "execution_count": 10,
   "id": "3fbd7a85-ab80-4c1a-9ed9-72f018ec0587",
   "metadata": {},
   "outputs": [
    {
     "data": {
      "text/html": [
       "<style>#sk-container-id-1 {color: black;background-color: white;}#sk-container-id-1 pre{padding: 0;}#sk-container-id-1 div.sk-toggleable {background-color: white;}#sk-container-id-1 label.sk-toggleable__label {cursor: pointer;display: block;width: 100%;margin-bottom: 0;padding: 0.3em;box-sizing: border-box;text-align: center;}#sk-container-id-1 label.sk-toggleable__label-arrow:before {content: \"▸\";float: left;margin-right: 0.25em;color: #696969;}#sk-container-id-1 label.sk-toggleable__label-arrow:hover:before {color: black;}#sk-container-id-1 div.sk-estimator:hover label.sk-toggleable__label-arrow:before {color: black;}#sk-container-id-1 div.sk-toggleable__content {max-height: 0;max-width: 0;overflow: hidden;text-align: left;background-color: #f0f8ff;}#sk-container-id-1 div.sk-toggleable__content pre {margin: 0.2em;color: black;border-radius: 0.25em;background-color: #f0f8ff;}#sk-container-id-1 input.sk-toggleable__control:checked~div.sk-toggleable__content {max-height: 200px;max-width: 100%;overflow: auto;}#sk-container-id-1 input.sk-toggleable__control:checked~label.sk-toggleable__label-arrow:before {content: \"▾\";}#sk-container-id-1 div.sk-estimator input.sk-toggleable__control:checked~label.sk-toggleable__label {background-color: #d4ebff;}#sk-container-id-1 div.sk-label input.sk-toggleable__control:checked~label.sk-toggleable__label {background-color: #d4ebff;}#sk-container-id-1 input.sk-hidden--visually {border: 0;clip: rect(1px 1px 1px 1px);clip: rect(1px, 1px, 1px, 1px);height: 1px;margin: -1px;overflow: hidden;padding: 0;position: absolute;width: 1px;}#sk-container-id-1 div.sk-estimator {font-family: monospace;background-color: #f0f8ff;border: 1px dotted black;border-radius: 0.25em;box-sizing: border-box;margin-bottom: 0.5em;}#sk-container-id-1 div.sk-estimator:hover {background-color: #d4ebff;}#sk-container-id-1 div.sk-parallel-item::after {content: \"\";width: 100%;border-bottom: 1px solid gray;flex-grow: 1;}#sk-container-id-1 div.sk-label:hover label.sk-toggleable__label {background-color: #d4ebff;}#sk-container-id-1 div.sk-serial::before {content: \"\";position: absolute;border-left: 1px solid gray;box-sizing: border-box;top: 0;bottom: 0;left: 50%;z-index: 0;}#sk-container-id-1 div.sk-serial {display: flex;flex-direction: column;align-items: center;background-color: white;padding-right: 0.2em;padding-left: 0.2em;position: relative;}#sk-container-id-1 div.sk-item {position: relative;z-index: 1;}#sk-container-id-1 div.sk-parallel {display: flex;align-items: stretch;justify-content: center;background-color: white;position: relative;}#sk-container-id-1 div.sk-item::before, #sk-container-id-1 div.sk-parallel-item::before {content: \"\";position: absolute;border-left: 1px solid gray;box-sizing: border-box;top: 0;bottom: 0;left: 50%;z-index: -1;}#sk-container-id-1 div.sk-parallel-item {display: flex;flex-direction: column;z-index: 1;position: relative;background-color: white;}#sk-container-id-1 div.sk-parallel-item:first-child::after {align-self: flex-end;width: 50%;}#sk-container-id-1 div.sk-parallel-item:last-child::after {align-self: flex-start;width: 50%;}#sk-container-id-1 div.sk-parallel-item:only-child::after {width: 0;}#sk-container-id-1 div.sk-dashed-wrapped {border: 1px dashed gray;margin: 0 0.4em 0.5em 0.4em;box-sizing: border-box;padding-bottom: 0.4em;background-color: white;}#sk-container-id-1 div.sk-label label {font-family: monospace;font-weight: bold;display: inline-block;line-height: 1.2em;}#sk-container-id-1 div.sk-label-container {text-align: center;}#sk-container-id-1 div.sk-container {/* jupyter's `normalize.less` sets `[hidden] { display: none; }` but bootstrap.min.css set `[hidden] { display: none !important; }` so we also need the `!important` here to be able to override the default hidden behavior on the sphinx rendered scikit-learn.org. See: https://github.com/scikit-learn/scikit-learn/issues/21755 */display: inline-block !important;position: relative;}#sk-container-id-1 div.sk-text-repr-fallback {display: none;}</style><div id=\"sk-container-id-1\" class=\"sk-top-container\"><div class=\"sk-text-repr-fallback\"><pre>GradientBoostingRegressor(learning_rate=0.2, max_depth=5, max_features=&#x27;sqrt&#x27;,\n",
       "                          min_samples_leaf=2, n_estimators=50, random_state=42,\n",
       "                          subsample=0.8)</pre><b>In a Jupyter environment, please rerun this cell to show the HTML representation or trust the notebook. <br />On GitHub, the HTML representation is unable to render, please try loading this page with nbviewer.org.</b></div><div class=\"sk-container\" hidden><div class=\"sk-item\"><div class=\"sk-estimator sk-toggleable\"><input class=\"sk-toggleable__control sk-hidden--visually\" id=\"sk-estimator-id-1\" type=\"checkbox\" checked><label for=\"sk-estimator-id-1\" class=\"sk-toggleable__label sk-toggleable__label-arrow\">GradientBoostingRegressor</label><div class=\"sk-toggleable__content\"><pre>GradientBoostingRegressor(learning_rate=0.2, max_depth=5, max_features=&#x27;sqrt&#x27;,\n",
       "                          min_samples_leaf=2, n_estimators=50, random_state=42,\n",
       "                          subsample=0.8)</pre></div></div></div></div></div>"
      ],
      "text/plain": [
       "GradientBoostingRegressor(learning_rate=0.2, max_depth=5, max_features='sqrt',\n",
       "                          min_samples_leaf=2, n_estimators=50, random_state=42,\n",
       "                          subsample=0.8)"
      ]
     },
     "execution_count": 10,
     "metadata": {},
     "output_type": "execute_result"
    }
   ],
   "source": [
    "# Initialize and train the Gradient Boosting Regressor\n",
    "model = GradientBoostingRegressor(**best_params)\n",
    "model.fit(X_train_scaled, y_train)"
   ]
  },
  {
   "cell_type": "markdown",
   "id": "27fac71e-fb03-4045-a637-1c3edf19c63e",
   "metadata": {},
   "source": [
    "### 4.3.2 Evaluate Model"
   ]
  },
  {
   "cell_type": "code",
   "execution_count": 11,
   "id": "2148e212-ec53-4a5e-86dd-c563647915d4",
   "metadata": {},
   "outputs": [],
   "source": [
    "# Make predictions and cast from float to integer\n",
    "y_pred_int = get_predictions(X_test_scaled, model)"
   ]
  },
  {
   "cell_type": "code",
   "execution_count": 12,
   "id": "c7f955fd-bbde-4ef3-94bc-3037cf4b2745",
   "metadata": {},
   "outputs": [
    {
     "name": "stdout",
     "output_type": "stream",
     "text": [
      "Mean Squared Error: 68.61111111111111\n",
      "R-squared: 0.8498671789407333\n"
     ]
    }
   ],
   "source": [
    "# Model evaluation (MSE and R2)\n",
    "evaluate_model(y_test, y_pred_int)"
   ]
  },
  {
   "cell_type": "markdown",
   "id": "11bac47a-9cf0-480b-af8c-78864d1bda74",
   "metadata": {},
   "source": [
    "## 4.4 Store Model"
   ]
  },
  {
   "cell_type": "markdown",
   "id": "0d30d9bc-adc6-46e1-b601-483a886e352d",
   "metadata": {},
   "source": [
    "### 4.4.1 Set Model Name"
   ]
  },
  {
   "cell_type": "code",
   "execution_count": 17,
   "id": "e5e0f6e0-03c2-4ea6-9530-7f8d74e556bb",
   "metadata": {},
   "outputs": [],
   "source": [
    "# Set the model name\n",
    "model_name = \"GBR-20240218-01\"\n",
    "model_path = f\"../models/{model_name}/\""
   ]
  },
  {
   "cell_type": "markdown",
   "id": "4204cd39-9591-4e3f-9a02-2346700a77cb",
   "metadata": {},
   "source": [
    "### 4.4.2 Save Model & Normalization Parameters"
   ]
  },
  {
   "cell_type": "code",
   "execution_count": 19,
   "id": "99e11a53-4a0c-40a4-9d94-2dd8f3ecccfe",
   "metadata": {},
   "outputs": [],
   "source": [
    "if not os.path.exists(model_path):\n",
    "    os.mkdir(model_path)\n",
    "\n",
    "    joblib.dump(normalization_params, f'{model_path}normalization_params.pkl')\n",
    "    joblib.dump(model, f'{model_path}model.pkl')\n",
    "    joblib.dump(selected_features, f'{model_path}feature_list.pkl')\n",
    "else:\n",
    "    print(\"Cannot save model. Model with this name already exists!\")"
   ]
  }
 ],
 "metadata": {
  "kernelspec": {
   "display_name": "Python 3 (ipykernel)",
   "language": "python",
   "name": "python3"
  },
  "language_info": {
   "codemirror_mode": {
    "name": "ipython",
    "version": 3
   },
   "file_extension": ".py",
   "mimetype": "text/x-python",
   "name": "python",
   "nbconvert_exporter": "python",
   "pygments_lexer": "ipython3",
   "version": "3.11.1"
  }
 },
 "nbformat": 4,
 "nbformat_minor": 5
}
