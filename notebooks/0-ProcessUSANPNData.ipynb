{
 "cells": [
  {
   "cell_type": "markdown",
   "id": "828fccd9-3200-4022-aeae-9f30652176a8",
   "metadata": {},
   "source": [
    "# 0. USA-NPN Data Processing"
   ]
  },
  {
   "cell_type": "code",
   "execution_count": 1,
   "id": "d7ddbd62-f93d-49e6-a67a-5d91921fe89c",
   "metadata": {},
   "outputs": [],
   "source": [
    "import pandas as pd"
   ]
  },
  {
   "cell_type": "code",
   "execution_count": 2,
   "id": "f2a70e58-cb54-452a-a99a-adce26af8807",
   "metadata": {},
   "outputs": [],
   "source": [
    "# Load USA-NPN dataset\n",
    "usa_npn = pd.read_csv(\"../data/raw/USA-NPN_status_intensity_observations_data.csv\", na_values=[-9999.00])"
   ]
  },
  {
   "cell_type": "code",
   "execution_count": 3,
   "id": "cbe52ce4-7db4-4da5-9afa-27000f4ccf6f",
   "metadata": {},
   "outputs": [],
   "source": [
    "def format_df(df):\n",
    "    # Drop any rows with no Observation_Date value\n",
    "    #usa_npn.dropna(subset=['Observation_Date'], inplace=True)\n",
    "    \n",
    "    # Cast Observation_Date column as datetime\n",
    "    df['Observation_Date'] = pd.to_datetime(df['Observation_Date'])\n",
    "    \n",
    "    # Extract the year and create a new column\n",
    "    df.insert(0, \"Year\", df['Observation_Date'].dt.year)\n",
    "    \n",
    "    # Add the location name\n",
    "    df.insert(0, \"location\", df['Site_ID'])\n",
    "    \n",
    "    # Initialize empty dataframe\n",
    "    full_bloom_df = pd.DataFrame()\n",
    "    \n",
    "    # Iterate through unique combinations of Species_ID and Site_ID\n",
    "    for species_id, site_id in df[['Species_ID', 'Site_ID']].drop_duplicates().values:\n",
    "        # Copy USA-NPN dataset for the specific Species_ID and Site_ID combination\n",
    "        t_df = df[(df['Species_ID'] == species_id) & (df['Site_ID'] == site_id)]\n",
    "        \n",
    "        # Iterate through every year available in the dataset for the specific Species_ID and Site_ID combination\n",
    "        for year in t_df.Year.unique():\n",
    "            # Subset by selected year\n",
    "            t_df_year = t_df[t_df['Year'] == year]\n",
    "            \n",
    "            # Find the first day where the Phenophase_Status was 1 (e.g. bloom date)\n",
    "            t_df_year = t_df_year[t_df_year['Phenophase_Status'] == 1].sort_values(by=['Day_of_Year'], ascending=True).head(1)\n",
    "            \n",
    "            # Concatenate the bloom date row with the results dataframe\n",
    "            full_bloom_df = pd.concat([full_bloom_df, t_df_year])\n",
    "    \n",
    "    # Drop unecessary column\n",
    "    full_bloom_df = full_bloom_df.drop(columns=['Phenophase_Status'])\n",
    "    full_bloom_df = full_bloom_df.reset_index(drop=True)\n",
    "    \n",
    "    return full_bloom_df"
   ]
  },
  {
   "cell_type": "code",
   "execution_count": 8,
   "id": "7c438306-5e77-4aef-b5e2-4f98455cde28",
   "metadata": {},
   "outputs": [],
   "source": [
    "# Get NYC-specific data\n",
    "nyc_df = usa_npn[(usa_npn['Site_ID'] == 32789) & (usa_npn['Species_ID'] == 228)]\n",
    "nyc_df = nyc_df[['Species_ID', 'Site_ID', 'Latitude', 'Longitude', 'Elevation_in_Meters', 'Observation_Date', 'Day_of_Year', 'Phenophase_Status']]\n",
    "\n",
    "nyc_bloom_df = format_df(nyc_df)\n",
    "\n",
    "nyc_bloom_df = nyc_bloom_df[['location', 'Latitude', 'Longitude', 'Elevation_in_Meters', 'Year', 'Observation_Date', 'Day_of_Year']]\n",
    "\n",
    "nyc_bloom_df.columns = ['location', 'lat', 'long', 'alt', 'year', 'bloom_date', 'bloom_doy']\n",
    "\n",
    "# Output the dataframe to CSV\n",
    "nyc_bloom_df.to_csv(\"../data/interim/main_locations/validation/nyc.csv\", index=False)"
   ]
  },
  {
   "cell_type": "code",
   "execution_count": 9,
   "id": "07b78e47-9a63-490b-aa9a-2cda83f8a96c",
   "metadata": {},
   "outputs": [],
   "source": [
    "# Get USA data\n",
    "usa_df = usa_npn[(usa_npn['Site_ID'] != 32789) | (usa_npn['Species_ID'] != 228)]\n",
    "usa_df = usa_df[['Species_ID', 'Site_ID', 'Latitude', 'Longitude', 'Elevation_in_Meters', 'Observation_Date', 'Day_of_Year', 'Phenophase_Status']]\n",
    "\n",
    "usa_bloom_df = format_df(usa_df)\n",
    "\n",
    "usa_bloom_df = usa_bloom_df[['location', 'Latitude', 'Longitude', 'Elevation_in_Meters', 'Year', 'Observation_Date', 'Day_of_Year']]\n",
    "\n",
    "usa_bloom_df.columns = ['location', 'lat', 'long', 'alt', 'year', 'bloom_date', 'bloom_doy']\n",
    "\n",
    "# Output the dataframe to CSV\n",
    "usa_bloom_df.to_csv(\"../data/raw/usa_formatted.csv\", index=False)"
   ]
  }
 ],
 "metadata": {
  "kernelspec": {
   "display_name": "Python 3 (ipykernel)",
   "language": "python",
   "name": "python3"
  },
  "language_info": {
   "codemirror_mode": {
    "name": "ipython",
    "version": 3
   },
   "file_extension": ".py",
   "mimetype": "text/x-python",
   "name": "python",
   "nbconvert_exporter": "python",
   "pygments_lexer": "ipython3",
   "version": "3.11.1"
  }
 },
 "nbformat": 4,
 "nbformat_minor": 5
}
